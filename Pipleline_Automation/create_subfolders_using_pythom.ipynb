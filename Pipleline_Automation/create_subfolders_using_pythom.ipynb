{
 "cells": [
  {
   "cell_type": "code",
   "execution_count": 12,
   "metadata": {},
   "outputs": [
    {
     "name": "stdout",
     "output_type": "stream",
     "text": [
      "Task completed successfully!\n"
     ]
    }
   ],
   "source": [
    "import os\n",
    "\n",
    "# Define the main directory path\n",
    "main_folder = \"C:/Users/ayush/OneDrive/Desktop/meet\"\n",
    "\n",
    "# List all directories inside the main folder\n",
    "all_folders = os.listdir(main_folder)\n",
    "\n",
    "# Filter directories that start with \"record\" and have exactly 3 varying characters at the end\n",
    "record_folders = [folder for folder in all_folders if folder.startswith(\"record\") and folder[-3:].isdigit()]\n",
    "\n",
    "# Loop through the filtered record folders\n",
    "for record in record_folders:\n",
    "    record_path = os.path.join(main_folder, record, \"03\")  # Navigate to the \"03\" folder\n",
    "    labeled_data_folder = os.path.join(record_path, \"Labeled data\")  # Define new folder path\n",
    "    \n",
    "    # Create \"Labeled data\" if it doesn't exist\n",
    "    if not os.path.exists(labeled_data_folder):\n",
    "        os.makedirs(labeled_data_folder)\n",
    "        print(f\"Created: {labeled_data_folder}\")\n",
    "    else:\n",
    "        print(f\"Already exists: {labeled_data_folder}\")\n",
    "\n",
    "print(\"Task completed successfully!\")\n"
   ]
  },
  {
   "cell_type": "code",
   "execution_count": null,
   "metadata": {},
   "outputs": [],
   "source": []
  },
  {
   "cell_type": "code",
   "execution_count": null,
   "metadata": {},
   "outputs": [],
   "source": []
  }
 ],
 "metadata": {
  "kernelspec": {
   "display_name": "Python 3",
   "language": "python",
   "name": "python3"
  },
  "language_info": {
   "codemirror_mode": {
    "name": "ipython",
    "version": 3
   },
   "file_extension": ".py",
   "mimetype": "text/x-python",
   "name": "python",
   "nbconvert_exporter": "python",
   "pygments_lexer": "ipython3",
   "version": "3.11.4"
  }
 },
 "nbformat": 4,
 "nbformat_minor": 2
}
